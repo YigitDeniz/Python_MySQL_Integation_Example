{
 "cells": [
  {
   "cell_type": "markdown",
   "metadata": {},
   "source": [
    "In this notebook we have saved only logistic regression part of code in a file called __'absenteeism_model.py'__. We dont need to import any pandas, numpy libraries or apply every step again. Please check the __'absenteeism_model.py'__ file, you will see all the user defined functions there."
   ]
  },
  {
   "cell_type": "code",
   "execution_count": 40,
   "metadata": {
    "scrolled": false
   },
   "outputs": [
    {
     "name": "stderr",
     "output_type": "stream",
     "text": [
      "C:\\Users\\yigit\\anaconda3\\lib\\site-packages\\sklearn\\base.py:318: UserWarning: Trying to unpickle estimator LogisticRegression from version 0.19.1 when using version 0.22.1. This might lead to breaking code or invalid results. Use at your own risk.\n",
      "  UserWarning)\n",
      "C:\\Users\\yigit\\anaconda3\\lib\\site-packages\\sklearn\\base.py:318: UserWarning: Trying to unpickle estimator StandardScaler from version 0.19.1 when using version 0.22.1. This might lead to breaking code or invalid results. Use at your own risk.\n",
      "  UserWarning)\n"
     ]
    },
    {
     "data": {
      "text/html": [
       "<div>\n",
       "<style scoped>\n",
       "    .dataframe tbody tr th:only-of-type {\n",
       "        vertical-align: middle;\n",
       "    }\n",
       "\n",
       "    .dataframe tbody tr th {\n",
       "        vertical-align: top;\n",
       "    }\n",
       "\n",
       "    .dataframe thead th {\n",
       "        text-align: right;\n",
       "    }\n",
       "</style>\n",
       "<table border=\"1\" class=\"dataframe\">\n",
       "  <thead>\n",
       "    <tr style=\"text-align: right;\">\n",
       "      <th></th>\n",
       "      <th>Reason_1</th>\n",
       "      <th>Reason_2</th>\n",
       "      <th>Reason_3</th>\n",
       "      <th>Reason_4</th>\n",
       "      <th>Month Value</th>\n",
       "      <th>Transportation Expense</th>\n",
       "      <th>Age</th>\n",
       "      <th>Body Mass Index</th>\n",
       "      <th>Education</th>\n",
       "      <th>Children</th>\n",
       "      <th>Pet</th>\n",
       "      <th>Probability</th>\n",
       "      <th>Prediction</th>\n",
       "    </tr>\n",
       "  </thead>\n",
       "  <tbody>\n",
       "    <tr>\n",
       "      <th>0</th>\n",
       "      <td>0</td>\n",
       "      <td>0.0</td>\n",
       "      <td>0</td>\n",
       "      <td>1</td>\n",
       "      <td>6</td>\n",
       "      <td>179</td>\n",
       "      <td>30</td>\n",
       "      <td>19</td>\n",
       "      <td>1</td>\n",
       "      <td>0</td>\n",
       "      <td>0</td>\n",
       "      <td>0.122799</td>\n",
       "      <td>0</td>\n",
       "    </tr>\n",
       "    <tr>\n",
       "      <th>1</th>\n",
       "      <td>1</td>\n",
       "      <td>0.0</td>\n",
       "      <td>0</td>\n",
       "      <td>0</td>\n",
       "      <td>6</td>\n",
       "      <td>361</td>\n",
       "      <td>28</td>\n",
       "      <td>27</td>\n",
       "      <td>0</td>\n",
       "      <td>1</td>\n",
       "      <td>4</td>\n",
       "      <td>0.873392</td>\n",
       "      <td>1</td>\n",
       "    </tr>\n",
       "    <tr>\n",
       "      <th>2</th>\n",
       "      <td>0</td>\n",
       "      <td>0.0</td>\n",
       "      <td>0</td>\n",
       "      <td>1</td>\n",
       "      <td>6</td>\n",
       "      <td>155</td>\n",
       "      <td>34</td>\n",
       "      <td>25</td>\n",
       "      <td>0</td>\n",
       "      <td>2</td>\n",
       "      <td>0</td>\n",
       "      <td>0.268305</td>\n",
       "      <td>0</td>\n",
       "    </tr>\n",
       "    <tr>\n",
       "      <th>3</th>\n",
       "      <td>0</td>\n",
       "      <td>0.0</td>\n",
       "      <td>0</td>\n",
       "      <td>1</td>\n",
       "      <td>6</td>\n",
       "      <td>179</td>\n",
       "      <td>40</td>\n",
       "      <td>22</td>\n",
       "      <td>1</td>\n",
       "      <td>2</td>\n",
       "      <td>0</td>\n",
       "      <td>0.196385</td>\n",
       "      <td>0</td>\n",
       "    </tr>\n",
       "    <tr>\n",
       "      <th>4</th>\n",
       "      <td>1</td>\n",
       "      <td>0.0</td>\n",
       "      <td>0</td>\n",
       "      <td>0</td>\n",
       "      <td>6</td>\n",
       "      <td>155</td>\n",
       "      <td>34</td>\n",
       "      <td>25</td>\n",
       "      <td>0</td>\n",
       "      <td>2</td>\n",
       "      <td>0</td>\n",
       "      <td>0.723502</td>\n",
       "      <td>1</td>\n",
       "    </tr>\n",
       "  </tbody>\n",
       "</table>\n",
       "</div>"
      ],
      "text/plain": [
       "   Reason_1  Reason_2  Reason_3  Reason_4  Month Value  \\\n",
       "0         0       0.0         0         1            6   \n",
       "1         1       0.0         0         0            6   \n",
       "2         0       0.0         0         1            6   \n",
       "3         0       0.0         0         1            6   \n",
       "4         1       0.0         0         0            6   \n",
       "\n",
       "   Transportation Expense  Age  Body Mass Index  Education  Children  Pet  \\\n",
       "0                     179   30               19          1         0    0   \n",
       "1                     361   28               27          0         1    4   \n",
       "2                     155   34               25          0         2    0   \n",
       "3                     179   40               22          1         2    0   \n",
       "4                     155   34               25          0         2    0   \n",
       "\n",
       "   Probability  Prediction  \n",
       "0     0.122799           0  \n",
       "1     0.873392           1  \n",
       "2     0.268305           0  \n",
       "3     0.196385           0  \n",
       "4     0.723502           1  "
      ]
     },
     "execution_count": 40,
     "metadata": {},
     "output_type": "execute_result"
    }
   ],
   "source": [
    " from absenteeism_module import *\n",
    "\n",
    "model1 = absenteeism_model('model', 'scaler')\n",
    "\n",
    "model1.load_and_clean_data('Absenteeism_new_data.csv')\n",
    "\n",
    "model1.predicted_outputs().head()"
   ]
  },
  {
   "cell_type": "markdown",
   "metadata": {},
   "source": [
    "Starting from this line, the codes below will enable us to use this data for further analysis in MySQL WorkBench. We will be able to use the same data by inserting values into MySQL database through building a connection"
   ]
  },
  {
   "cell_type": "code",
   "execution_count": 2,
   "metadata": {},
   "outputs": [],
   "source": [
    "import pymysql"
   ]
  },
  {
   "cell_type": "code",
   "execution_count": 3,
   "metadata": {},
   "outputs": [],
   "source": [
    "conn = pymysql.connect(database = 'python_data_predictions', user = 'root', password = 'my_password')"
   ]
  },
  {
   "cell_type": "code",
   "execution_count": 4,
   "metadata": {},
   "outputs": [],
   "source": [
    "cursor = conn.cursor()"
   ]
  },
  {
   "cell_type": "code",
   "execution_count": 5,
   "metadata": {},
   "outputs": [],
   "source": [
    "df_new_observs = model1.predicted_outputs()"
   ]
  },
  {
   "cell_type": "code",
   "execution_count": 8,
   "metadata": {},
   "outputs": [
    {
     "data": {
      "text/plain": [
       "0"
      ]
     },
     "execution_count": 8,
     "metadata": {},
     "output_type": "execute_result"
    }
   ],
   "source": [
    "cursor.execute('select * from new_table;')"
   ]
  },
  {
   "cell_type": "markdown",
   "metadata": {},
   "source": [
    "__0__ means there is currently no data stored in the table <span style='color:Blue'> new_table  </span> created in MySQL Workbench.\n",
    "\n",
    "Python variables can be used as arguments of the <span style='color:Blue'>.execute()</span> method as well."
   ]
  },
  {
   "cell_type": "code",
   "execution_count": 16,
   "metadata": {},
   "outputs": [
    {
     "data": {
      "text/plain": [
       "((40, 13), 40, 13)"
      ]
     },
     "execution_count": 16,
     "metadata": {},
     "output_type": "execute_result"
    }
   ],
   "source": [
    "df_new_observs.shape, df_new_observs.shape[0], df_new_observs.shape[1]"
   ]
  },
  {
   "cell_type": "code",
   "execution_count": 13,
   "metadata": {},
   "outputs": [
    {
     "data": {
      "text/plain": [
       "'Transportation Expense'"
      ]
     },
     "execution_count": 13,
     "metadata": {},
     "output_type": "execute_result"
    }
   ],
   "source": [
    "df_new_observs.columns.values[5]"
   ]
  },
  {
   "cell_type": "code",
   "execution_count": 36,
   "metadata": {},
   "outputs": [
    {
     "data": {
      "text/plain": [
       "'INSERT INTO new_table VALUES(0, 0.0, 0, 1, 6, 179, 30, 19, 1, 0, 0, 0.12279926243494323, 0), (1, 0.0, 0, 0, 6, 361, 28, 27, 0, 1, 4, 0.8733923470447209, 1), (0, 0.0, 0, 1, 6, 155, 34, 25, 0, 2, 0, 0.2683049546034322, 0), (0, 0.0, 0, 1, 6, 179, 40, 22, 1, 2, 0, 0.1963853143922252, 0), (1, 0.0, 0, 0, 6, 155, 34, 25, 0, 2, 0, 0.7235017225544896, 1), (1, 0.0, 0, 0, 6, 225, 28, 24, 0, 1, 2, 0.7168905020985188, 1), (1, 0.0, 0, 0, 6, 118, 46, 25, 0, 2, 0, 0.5705238370679658, 1), (0, 0.0, 0, 1, 6, 179, 30, 19, 1, 0, 0, 0.12279926243494323, 0), (0, 0.0, 0, 1, 6, 118, 37, 28, 0, 0, 0, 0.13411805408968352, 0), (1, 0.0, 0, 0, 6, 118, 37, 28, 0, 0, 0, 0.5250065611752316, 1), (0, 0.0, 0, 1, 6, 378, 36, 21, 0, 2, 4, 0.4549980207286245, 0), (0, 0.0, 1, 0, 6, 118, 50, 31, 0, 1, 0, 0.6447416367376194, 1), (0, 0.0, 1, 0, 6, 233, 31, 21, 1, 1, 8, 0.35110766120784753, 0), (0, 0.0, 0, 1, 6, 179, 30, 19, 1, 0, 0, 0.12279926243494323, 0), (0, 0.0, 0, 0, 6, 235, 48, 33, 0, 1, 5, 0.09653346354354148, 0), (0, 0.0, 0, 0, 6, 268, 33, 25, 1, 0, 0, 0.1894785903905003, 0), (0, 0.0, 1, 0, 6, 118, 50, 31, 0, 1, 0, 0.6447416367376194, 1), (1, 0.0, 0, 0, 6, 179, 30, 19, 1, 0, 0, 0.49973827165859197, 0), (0, 0.0, 0, 1, 6, 291, 40, 25, 0, 1, 1, 0.38953149469289, 0), (1, 0.0, 0, 0, 7, 179, 30, 19, 1, 0, 0, 0.5001612226284466, 1), (0, 0.0, 0, 1, 7, 118, 37, 28, 0, 0, 0, 0.13431464561079212, 0), (0, 0.0, 0, 1, 7, 233, 31, 21, 1, 1, 8, 0.051366563789338106, 0), (1, 0.0, 0, 0, 7, 118, 37, 28, 0, 0, 0, 0.525428436293439, 1), (1, 0.0, 0, 0, 7, 118, 37, 28, 0, 0, 0, 0.525428436293439, 1), (0, 0.0, 0, 1, 7, 233, 31, 21, 1, 1, 8, 0.051366563789338106, 0), (0, 0.0, 0, 1, 7, 235, 43, 38, 0, 1, 0, 0.5123518738925141, 1), (0, 0.0, 1, 0, 7, 233, 31, 21, 1, 1, 8, 0.35149320375017246, 0), (1, 0.0, 0, 0, 7, 228, 58, 22, 0, 2, 1, 0.6333849402703989, 1), (0, 0.0, 0, 1, 7, 118, 37, 28, 0, 0, 0, 0.13431464561079212, 0), (1, 0.0, 0, 0, 7, 228, 58, 22, 0, 2, 1, 0.6333849402703989, 1), (0, 0.0, 0, 1, 7, 189, 33, 25, 0, 2, 2, 0.24494273576137351, 0), (0, 0.0, 0, 1, 7, 118, 37, 28, 0, 0, 0, 0.13431464561079212, 0), (0, 0.0, 0, 1, 7, 361, 28, 27, 0, 1, 4, 0.4919621401501115, 0), (0, 0.0, 0, 1, 7, 225, 28, 24, 0, 1, 2, 0.26224032774538253, 0), (1, 0.0, 0, 0, 7, 369, 31, 25, 0, 3, 0, 0.966560156232829, 1), (1, 0.0, 0, 0, 7, 289, 33, 30, 0, 2, 1, 0.9123989237228621, 1), (1, 0.0, 0, 0, 7, 235, 37, 29, 1, 1, 1, 0.7465975923060953, 1), (0, 0.0, 0, 0, 7, 118, 40, 34, 0, 1, 8, 0.0230895016874011, 0), (0, 0.0, 0, 0, 7, 231, 39, 35, 0, 2, 2, 0.2956474890457222, 0), (0, 0.0, 0, 0, 7, 179, 53, 25, 0, 1, 1, 0.07644956838010682, 0);'"
      ]
     },
     "execution_count": 36,
     "metadata": {},
     "output_type": "execute_result"
    }
   ],
   "source": [
    "insert_query = 'INSERT INTO new_table VALUES'\n",
    "\n",
    "for i in range(df_new_observs.shape[0]):\n",
    "    insert_query += '('\n",
    "    \n",
    "    for j in range(df_new_observs.shape[1]):\n",
    "        insert_query += str(df_new_observs[df_new_observs.columns.values[j]][i]) + ', '\n",
    "        \n",
    "    insert_query = insert_query[:-2] + '), '\n",
    "    \n",
    "    \n",
    "insert_query = insert_query[:-2] + ';'\n",
    "\n",
    "insert_query    "
   ]
  },
  {
   "cell_type": "code",
   "execution_count": 37,
   "metadata": {},
   "outputs": [
    {
     "data": {
      "text/plain": [
       "40"
      ]
     },
     "execution_count": 37,
     "metadata": {},
     "output_type": "execute_result"
    }
   ],
   "source": [
    "cursor.execute(insert_query)"
   ]
  },
  {
   "cell_type": "code",
   "execution_count": 38,
   "metadata": {},
   "outputs": [],
   "source": [
    "conn.commit()"
   ]
  },
  {
   "cell_type": "code",
   "execution_count": 39,
   "metadata": {},
   "outputs": [],
   "source": [
    "conn.close()"
   ]
  }
 ],
 "metadata": {
  "kernelspec": {
   "display_name": "Python 3",
   "language": "python",
   "name": "python3"
  },
  "language_info": {
   "codemirror_mode": {
    "name": "ipython",
    "version": 3
   },
   "file_extension": ".py",
   "mimetype": "text/x-python",
   "name": "python",
   "nbconvert_exporter": "python",
   "pygments_lexer": "ipython3",
   "version": "3.7.6"
  }
 },
 "nbformat": 4,
 "nbformat_minor": 2
}
